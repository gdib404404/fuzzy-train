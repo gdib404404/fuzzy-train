{
  "cells": [
    {
      "cell_type": "markdown",
      "metadata": {
        "id": "view-in-github",
        "colab_type": "text"
      },
      "source": [
        "<a href=\"https://colab.research.google.com/github/gdib404404/fuzzy-train/blob/main/1a_Getting_Started.ipynb\" target=\"_parent\"><img src=\"https://colab.research.google.com/assets/colab-badge.svg\" alt=\"Open In Colab\"/></a>"
      ]
    },
    {
      "cell_type": "markdown",
      "metadata": {
        "id": "qtxhW40nzDVe"
      },
      "source": [
        "## CSCI 470 Activities and Case Studies\n",
        "\n",
        "1. For all activities, you are allowed to collaborate with a partner.\n",
        "1. For case studies, you should work individually and are **not** allowed to collaborate.\n",
        "\n",
        "By filling out this notebook and submitting it, you acknowledge that you are aware of the above policies and are agreeing to comply with them."
      ]
    },
    {
      "cell_type": "markdown",
      "metadata": {
        "id": "hoYlUWtOzDVe"
      },
      "source": [
        "Some considerations with regard to how these notebooks will be graded:\n",
        "\n",
        "1. Cells in which \"# YOUR CODE HERE\" is found are the cells where your graded code should be written.\n",
        "2. In order to test out or debug your code you may also create notebook cells or edit existing notebook cells other than \"# YOUR CODE HERE\". We actually highly recommend you do so to gain a better understanding of what is happening. However, during grading, **these changes are ignored**.\n",
        "3. You must ensure that all your code for the particular task is available in the cells that say \"# YOUR CODE HERE\"\n",
        "4. Every cell that says \"# YOUR CODE HERE\" is followed by a \"raise NotImplementedError\". You need to remove that line. During grading, if an error occurs then you will lose points for your work in that section.\n",
        "5. If your code passes the \"assert\" statements, then no output will result. If your code fails the \"assert\" statements, you will get an \"AssertionError\". Getting an assertion error means you will not receive points for that particular task.\n",
        "6. If you edit the \"assert\" statements to make your code pass, they will still fail when they are graded since the autograder will ignore the modified \"assert\" statement. Make sure you don't edit the assert statements.\n",
        "7. We may sometimes have \"hidden\" tests for grading. This means that passing the visible \"assert\" statements is not sufficient. The \"assert\" statements are there as a guide but you need to make sure you understand what you're required to do and ensure that you are doing it correctly. Passing the visible tests is necessary but not sufficient to get the grade for that cell.\n",
        "8. When you are asked to define a function, make sure you **don't** use any variables outside of the parameters passed to the function. You can think of the parameters being passed to the function as a hint. Make sure you're using all of those variables.\n",
        "9. The **Grading** section at the end of the document (before the **Feedback** section) contains some code for our autograder on GradeScope. You are expected to fail this block of code in your Jupyter environment. DO NOT edit this block of code, or you may not get points for your assignment.\n",
        "10. Finally, **make sure you run \"Kernel > Restart and Run All\"** and pass all the asserts before submitting. If you don't restart the kernel, there may be some code that you ran and deleted that is still being used and that was why your asserts were passing."
      ]
    },
    {
      "cell_type": "markdown",
      "metadata": {
        "deletable": false,
        "editable": false,
        "nbgrader": {
          "cell_type": "markdown",
          "checksum": "c44cb71196d401fbf1b284a4cead3f30",
          "grade": false,
          "grade_id": "cell-645350f534fce944",
          "locked": true,
          "schema_version": 3,
          "solution": false
        },
        "id": "hirlMrPfzDVf"
      },
      "source": [
        "# Getting Started\n",
        "\n",
        "Usually, getting your environment set up is one of the most time consuming and frustrating parts of development. If you are seeing this running locally on your computer, congratulations!! You're past most of the hardship.\n",
        "\n",
        "During class, we'll be using [colab](https://g.co/colab) for our exercises but you may wish to [install Python](https://www.python.org/getit/) on your computers, [pipenv](https://docs.pipenv.org/) and set up [Jupyter](http://jupyter.org/). If you need help with this, contact an instructor or TA.\n",
        "\n",
        "In this exercise we're going to briefly go over Jupyter Notebooks, Markdown, Python, data visualization code and the machine learning workflow. There's a lot to cover so let's get started."
      ]
    },
    {
      "cell_type": "markdown",
      "metadata": {
        "deletable": false,
        "editable": false,
        "nbgrader": {
          "cell_type": "markdown",
          "checksum": "0813c281abb5fabcdfee326d43ef5cfe",
          "grade": false,
          "grade_id": "cell-9064f723f44e0ce5",
          "locked": true,
          "schema_version": 3,
          "solution": false
        },
        "id": "VRt3sMutzDVf"
      },
      "source": [
        "## Jupyter\n",
        "\n",
        "Right now, you're looking at a Jupyter notebook. Jupyter notebooks allow you to interactively run code while maintaining variables' states in memory. Notebooks are extremely useful for getting your ideas tested and quickly iterating on code. Once you've verified and validated your ideas, you should place any function definitions and workflow procedures in `.py` files.\n",
        "\n",
        "Notebooks have multiple cells, each cell has a code type and contents as well as output or display. This cell you're looking at is a Markdown cell. You can double click it to see (and edit) its contents.\n",
        "\n",
        "If you haven't used Markdown before, this [cheatsheet](https://github.com/adam-p/markdown-here/wiki/Markdown-Cheatsheet) is very useful. A portion of its contents are copied in the next cell for you to edit and experiment with."
      ]
    },
    {
      "cell_type": "markdown",
      "metadata": {
        "deletable": false,
        "editable": false,
        "nbgrader": {
          "cell_type": "markdown",
          "checksum": "930b36843f5c4767345cbeb6d98d9b0f",
          "grade": false,
          "grade_id": "cell-e9501831c6e5e2f5",
          "locked": true,
          "schema_version": 3,
          "solution": false
        },
        "id": "7XNqB73mzDVf"
      },
      "source": [
        "## Markdown Cheat Sheet\n",
        "\n",
        "**Double Click Me To Edit!!!**\n",
        "\n",
        "__If you already know markdown, you can skip this whole cell.__\n",
        "\n",
        "<-- Cheatsheet contents -->\n",
        "\n",
        "### Headings\n",
        "\n",
        "# H1\n",
        "## H2\n",
        "### H3\n",
        "#### H4\n",
        "##### H5\n",
        "###### H6\n",
        "\n",
        "Alternatively, for H1 and H2, an underline-ish style:\n",
        "\n",
        "Alt-H1\n",
        "======\n",
        "\n",
        "Alt-H2\n",
        "------\n",
        "\n",
        "### Emphasis\n",
        "\n",
        "Emphasis, aka italics, with *asterisks* or _underscores_.\n",
        "\n",
        "Strong emphasis, aka bold, with **asterisks** or __underscores__.\n",
        "\n",
        "Combined emphasis with **asterisks and _underscores_**.\n",
        "\n",
        "Strikethrough uses two tildes. ~~Scratch this.~~\n",
        "\n",
        "### Lists\n",
        "\n",
        "1. First ordered list item\n",
        "2. Another item\n",
        "⋅⋅* Unordered sub-list.\n",
        "1. Actual numbers don't matter, just that it's a number\n",
        "⋅⋅1. Ordered sub-list\n",
        "4. And another item.\n",
        "\n",
        "⋅⋅⋅You can have properly indented paragraphs within list items. Notice the blank line above, and the leading spaces (at least one, but we'll use three here to also align the raw Markdown).\n",
        "\n",
        "⋅⋅⋅To have a line break without a paragraph, you will need to use two trailing spaces.⋅⋅\n",
        "⋅⋅⋅Note that this line is separate, but within the same paragraph.⋅⋅\n",
        "⋅⋅⋅(This is contrary to the typical GFM line break behaviour, where trailing spaces are not required.)\n",
        "\n",
        "* Unordered list can use asterisks\n",
        "- Or minuses\n",
        "+ Or pluses\n",
        "\n",
        "### Links\n",
        "\n",
        "\n",
        "[I'm an inline-style link](https://www.google.com)\n",
        "\n",
        "[I'm an inline-style link with title](https://www.google.com \"Google's Homepage\")\n",
        "\n",
        "\n",
        "### Images\n",
        "\n",
        "Here's a logo (hover to see the title text):\n",
        "\n",
        "Inline-style:\n",
        "![alt text](https://github.com/adam-p/markdown-here/raw/master/src/common/images/icon48.png \"Logo Title Text 1\")\n",
        "\n",
        "Reference-style:\n",
        "![alt text][logo]\n",
        "\n",
        "\n",
        "### Code\n",
        "\n",
        "Inline `code` has `back-ticks around` it.\n",
        "\n",
        "```javascript\n",
        "var s = \"JavaScript syntax highlighting\";\n",
        "alert(s);\n",
        "```\n",
        "\n",
        "```python\n",
        "s = \"Python syntax highlighting\"\n",
        "print s\n",
        "```\n",
        "\n",
        "```\n",
        "No language indicated, so no syntax highlighting.\n",
        "But let's throw in a <b>tag</b>.\n",
        "```\n",
        "\n",
        "### Tables\n",
        "\n",
        "Colons can be used to align columns.\n",
        "\n",
        "| Tables        | Are           | Cool  |\n",
        "|---------------|---------------|-------|\n",
        "|1|2|3|\n",
        "|4|5|6|\n",
        "|7|8|9|\n",
        "\n",
        "There must be at least 3 dashes separating each header cell.\n",
        "The outer pipes (|) are optional, and you don't need to make the\n",
        "raw Markdown line up prettily.\n"
      ]
    },
    {
      "cell_type": "markdown",
      "metadata": {
        "deletable": false,
        "editable": false,
        "nbgrader": {
          "cell_type": "markdown",
          "checksum": "1be0ae030cae9c756d6465d7ce5b4fee",
          "grade": false,
          "grade_id": "cell-cb691ef19cdf03a0",
          "locked": true,
          "schema_version": 3,
          "solution": false
        },
        "id": "CVsfPUbIzDVf"
      },
      "source": [
        "Jupyter organizes content in cells. Each cell has a type such as Code or Markdown and can be run to produce an output or render itself."
      ]
    },
    {
      "cell_type": "markdown",
      "metadata": {
        "deletable": false,
        "editable": false,
        "nbgrader": {
          "cell_type": "markdown",
          "checksum": "1026c5b8e05e0cc557a35bfb9bfb7414",
          "grade": false,
          "grade_id": "cell-c0f8dd911df4c13f",
          "locked": true,
          "schema_version": 3,
          "solution": false
        },
        "id": "jkni8zrdzDVf"
      },
      "source": [
        "Jupyter also has some cool features that allow us to apply commands to a cell. These are called [magic commands](https://ipython.readthedocs.io/en/stable/interactive/magics.html).\n",
        "\n",
        "We use magic commands by typing `%` for line magic and `%%` for cell magic. Let's try the `%%time` magic command."
      ]
    },
    {
      "cell_type": "code",
      "execution_count": 1,
      "metadata": {
        "deletable": false,
        "editable": false,
        "nbgrader": {
          "cell_type": "code",
          "checksum": "72b690b7163fdf11f1fa5ebf5e501afc",
          "grade": false,
          "grade_id": "cell-8caa0572fce46f89",
          "locked": true,
          "schema_version": 3,
          "solution": false
        },
        "id": "btRhacbwzDVf"
      },
      "outputs": [],
      "source": [
        "import time"
      ]
    },
    {
      "cell_type": "code",
      "execution_count": null,
      "metadata": {
        "deletable": false,
        "editable": false,
        "nbgrader": {
          "cell_type": "code",
          "checksum": "738b5697a1f519634e87d086f3b46fad",
          "grade": false,
          "grade_id": "cell-c01f50d178658d4f",
          "locked": true,
          "schema_version": 3,
          "solution": false
        },
        "colab": {
          "base_uri": "https://localhost:8080/"
        },
        "id": "4s30G9E2zDVg",
        "outputId": "ceaa3f7c-62f4-4672-ccf9-2a95366dd38d"
      },
      "outputs": [
        {
          "output_type": "stream",
          "name": "stdout",
          "text": [
            "CPU times: user 42 ms, sys: 11.9 ms, total: 53.9 ms\n",
            "Wall time: 10 s\n"
          ]
        }
      ],
      "source": [
        "%%time\n",
        "time.sleep(10) # sleep for 10 seconds"
      ]
    },
    {
      "cell_type": "markdown",
      "metadata": {
        "deletable": false,
        "editable": false,
        "nbgrader": {
          "cell_type": "markdown",
          "checksum": "d69407c4b58f01206b57d9409010845a",
          "grade": false,
          "grade_id": "cell-d4a597a7eca89df0",
          "locked": true,
          "schema_version": 3,
          "solution": false,
          "task": false
        },
        "id": "KnaLoGQZzDVg"
      },
      "source": [
        "## Packages / Libraries\n",
        "\n",
        "You probably noticed above that we ran this line of code `import time` what that's doing is importing the python standard library's [time module](https://docs.python.org/3/library/time.html). Part of why Python is so popular is the availability of awesome libraries we can import. The `time` module comes with your Python install but we're also going to want to use 3rd party libraries.\n",
        "\n",
        "Python libraries are generally hosted on [pypi.org](https://pypi.org/) (the Python Package Index) and we can install them using [pip](https://pip.pypa.io/en/stable/) to install them to our global Python installation. For project-specific package management, it is best to setup a virtual environemnt from [pipenv](https://github.com/pypa/pipenv) or at least [virtualenv](https://virtualenv.pypa.io/en/latest/)."
      ]
    },
    {
      "cell_type": "markdown",
      "metadata": {
        "deletable": false,
        "editable": false,
        "nbgrader": {
          "cell_type": "markdown",
          "checksum": "610046de32b5c14707f89403d8f373fc",
          "grade": false,
          "grade_id": "cell-2d8c07f707d9a6fd",
          "locked": true,
          "schema_version": 3,
          "solution": false,
          "task": false
        },
        "id": "_7L-d_uJzDVg"
      },
      "source": [
        "## Shell Commands\n",
        "\n",
        "Now one useful feature in Jupyter notebooks is that we can run shell commands from the notebook. We do that by adding `!` before whatever we're typing."
      ]
    },
    {
      "cell_type": "code",
      "execution_count": 1,
      "metadata": {
        "deletable": false,
        "editable": false,
        "nbgrader": {
          "cell_type": "code",
          "checksum": "20c8b089c2eed3da72d542cce7c73761",
          "grade": false,
          "grade_id": "cell-25e34b97b89529c7",
          "locked": true,
          "schema_version": 3,
          "solution": false,
          "task": false
        },
        "colab": {
          "base_uri": "https://localhost:8080/"
        },
        "id": "9uTbsUYHzDVg",
        "outputId": "647e2252-b1f5-4ca5-ee4c-fca226558342"
      },
      "outputs": [
        {
          "output_type": "stream",
          "name": "stdout",
          "text": [
            "Hello!\n"
          ]
        }
      ],
      "source": [
        "!echo \"Hello!\""
      ]
    },
    {
      "cell_type": "markdown",
      "metadata": {
        "deletable": false,
        "editable": false,
        "nbgrader": {
          "cell_type": "markdown",
          "checksum": "2ad153bdf808a8bd4b83db45b3c7b144",
          "grade": false,
          "grade_id": "cell-9394024bc8be41b6",
          "locked": true,
          "schema_version": 3,
          "solution": false,
          "task": false
        },
        "id": "zMOHnhM4zDVg"
      },
      "source": [
        "**However, using shell commands causes Jupyter Notebooks to only work correctly on systems which implement the shell commands referenced**. This becomes a problem when systems use different commands to perform the same actions or when systems do not implement the shell commands required by a notebook.\n",
        "\n",
        "For example, POSIX compliant systems (Linux, MacOS, Colab) use `pwd` to list files in the current directory while Windows systems use `chdir`. So, only one of the below code cells should execute properly on your system (the other will fail to execute)."
      ]
    },
    {
      "cell_type": "code",
      "execution_count": 2,
      "metadata": {
        "deletable": false,
        "editable": false,
        "nbgrader": {
          "cell_type": "code",
          "checksum": "ef58ddd0351a6acd840f879d9631d28b",
          "grade": false,
          "grade_id": "cell-a6f24f5cc69f30af",
          "locked": true,
          "schema_version": 3,
          "solution": false,
          "task": false
        },
        "colab": {
          "base_uri": "https://localhost:8080/"
        },
        "id": "rzCAgiYOzDVg",
        "outputId": "47515c4d-a0cf-4fab-9371-dbcd0690c90f"
      },
      "outputs": [
        {
          "output_type": "stream",
          "name": "stdout",
          "text": [
            "/content\n"
          ]
        }
      ],
      "source": [
        "# Executes correctly on POSIX compliant systems (Colab, Mac, Linux, etc.)\n",
        "! pwd"
      ]
    },
    {
      "cell_type": "code",
      "execution_count": 3,
      "metadata": {
        "deletable": false,
        "editable": false,
        "nbgrader": {
          "cell_type": "code",
          "checksum": "6dad201ee51b913fc93ff67d6d12c444",
          "grade": false,
          "grade_id": "cell-c2207b8ef582758e",
          "locked": true,
          "schema_version": 3,
          "solution": false,
          "task": false
        },
        "colab": {
          "base_uri": "https://localhost:8080/"
        },
        "id": "GwgIDkDizDVg",
        "outputId": "aaa555b8-5b2c-4fd4-bc37-ca500a12ed8c"
      },
      "outputs": [
        {
          "output_type": "stream",
          "name": "stdout",
          "text": [
            "/bin/bash: line 1: chdir: command not found\n"
          ]
        }
      ],
      "source": [
        "# Executes correctly on Windows systems\n",
        "! chdir"
      ]
    },
    {
      "cell_type": "markdown",
      "metadata": {
        "deletable": false,
        "editable": false,
        "nbgrader": {
          "cell_type": "markdown",
          "checksum": "62d3bdc10a43ce01cda8dc8b0372aa77",
          "grade": false,
          "grade_id": "cell-edd39620ea58456a",
          "locked": true,
          "schema_version": 3,
          "solution": false,
          "task": false
        },
        "id": "m-Euym1dzDVg"
      },
      "source": [
        "## Magic functions\n",
        "\n",
        "Notice that when a shell command fails, it might not return anything. This is because shell commands are executed within a sub-shell and the data in [stdout](https://www.cplusplus.com/reference/cstdio/stdout/) is returned to the primary Jupyter Notebook environment to be used.\n",
        "\n",
        "[stdout](https://www.cplusplus.com/reference/cstdio/stdout/) does not contain any information about errors (this information is sent to [stderr](https://www.cplusplus.com/reference/cstdio/stderr/) instead). So, when a shell command does not execute correctly, nothing is returned because [stdout](https://www.cplusplus.com/reference/cstdio/stdout/) is empty.\n",
        "\n",
        "Jupyter Notebooks is built on top of IPython. To improve cross-system compatibility, IPython implements many of the most popular shell commands as magic functions (`%`) which work the same on all systems. A list of these magic functions can be found [here](https://ipython.readthedocs.io/en/stable/interactive/magics.html). **For this reason, it is highly recommended that magic functions `%` be favored over shell commands `!` when possible.**\n",
        "\n",
        "**Note**: Magic functions (`%`) execute within the primary Jupyter Notebook environment. This is different than shell commands (`!`) which execute within sub-shells.\n",
        "\n",
        "The following code cell illustrates the differences between the two commands. The demonstration is fairly nuanced, so don't worry if you don't fully understand it. Just recognize that magic commands (`%`) are better suited for use across different operating systems than shell commands (`!`)."
      ]
    },
    {
      "cell_type": "code",
      "execution_count": 5,
      "metadata": {
        "deletable": false,
        "editable": false,
        "nbgrader": {
          "cell_type": "code",
          "checksum": "3bb9270892a79bae1635807a0bb3d971",
          "grade": false,
          "grade_id": "cell-10f2d0968c853fac",
          "locked": true,
          "schema_version": 3,
          "solution": false,
          "task": false
        },
        "id": "uyXxVAlAzDVg"
      },
      "outputs": [],
      "source": [
        "# This code cell only works on POSIX compliant systems\n",
        "# Change this variable to `True` if your system is POSIX compliant (ie. Colab, Linux, Mac, etc.)\n",
        "is_posix_compliant = False\n",
        "\n",
        "if is_posix_compliant:\n",
        "    # Save current directory\n",
        "    cur_dir = !pwd\n",
        "    cur_dir = cur_dir[0]\n",
        "\n",
        "    # Get directory contents\n",
        "    original_dir_contents = !ls\n",
        "\n",
        "    # Move up one directory within sub-shell\n",
        "    !cd ..\n",
        "\n",
        "    # Get directory contents\n",
        "    sub_shell_dir_contents = !ls\n",
        "\n",
        "    # Move up one directory within Jupyter Notebook environment\n",
        "    # (Using `-q` = `quiet` so nothing should be printed)\n",
        "    %cd -q ..\n",
        "\n",
        "    # Get directory contents\n",
        "    magic_function_dir_contents = !ls\n",
        "\n",
        "    # The directory contents before and after the sub-shell cd are the same\n",
        "    # But both are different from that of directory moved to by the magic function\n",
        "    assert original_dir_contents == sub_shell_dir_contents != magic_function_dir_contents\n",
        "\n",
        "    # Send Jupyter Notebook working directory back to original location\n",
        "    # Note the use of brackets indicating a variable from the Jupyter Notebook environment must be used\n",
        "    %cd -q {cur_dir}"
      ]
    },
    {
      "cell_type": "markdown",
      "metadata": {
        "deletable": false,
        "editable": false,
        "nbgrader": {
          "cell_type": "markdown",
          "checksum": "fea42cb47c2ed5ede428b91c8fba9d57",
          "grade": false,
          "grade_id": "cell-9f04b7668e300b8f",
          "locked": true,
          "schema_version": 3,
          "solution": false,
          "task": false
        },
        "id": "PeHHyJEjzDVg"
      },
      "source": [
        "## Pip\n",
        "\n",
        "To install a package, we simply run `pip install <package-name>`. The main library we'll be using for the first part of the course, is [scikit-learn](https://scikit-learn.org/). You can install it by running `pip install scikit-learn`.\n",
        "\n",
        "If you're running this notebook from colab, that lbrary is probably already installed for you. When installing, make sure you're clear on where the package will be installed. Some important questions to ask are:\n",
        "\n",
        "1. Do I want to install this package locally for my project or globally for every project?\n",
        "1. Which Python installation is this going to be installed for?\n",
        "1. Which Python version is that?"
      ]
    },
    {
      "cell_type": "code",
      "execution_count": null,
      "metadata": {
        "deletable": false,
        "editable": false,
        "nbgrader": {
          "cell_type": "code",
          "checksum": "193b810ad567c41b4242367b4e493731",
          "grade": false,
          "grade_id": "cell-4cdcf351e8953f9f",
          "locked": true,
          "schema_version": 3,
          "solution": false,
          "task": false
        },
        "id": "oS8gCYbVzDVg"
      },
      "outputs": [],
      "source": [
        "# Uncomment the below line to install scikit-learn\n",
        "# ! pip install scikit-learn"
      ]
    },
    {
      "cell_type": "markdown",
      "metadata": {
        "deletable": false,
        "editable": false,
        "nbgrader": {
          "cell_type": "markdown",
          "checksum": "6580ec1fa6425eb187cd7cebe312e379",
          "grade": false,
          "grade_id": "cell-6a650f80317199f9",
          "locked": true,
          "schema_version": 3,
          "solution": false
        },
        "id": "i9ucFSMqzDVg"
      },
      "source": [
        "## Python\n",
        "\n",
        "Let's go over some basic Python."
      ]
    },
    {
      "cell_type": "markdown",
      "metadata": {
        "deletable": false,
        "editable": false,
        "nbgrader": {
          "cell_type": "markdown",
          "checksum": "bfc794ac1aeeb56138ec2bd9f3c279a3",
          "grade": false,
          "grade_id": "cell-cc6ce1816036c77d",
          "locked": true,
          "schema_version": 3,
          "solution": false
        },
        "id": "uTh28klozDVg"
      },
      "source": [
        "We can do some basic maths as follows:"
      ]
    },
    {
      "cell_type": "code",
      "execution_count": 6,
      "metadata": {
        "deletable": false,
        "editable": false,
        "nbgrader": {
          "cell_type": "code",
          "checksum": "50e0b7bd0ca72b40b5cd67de093d0a41",
          "grade": false,
          "grade_id": "cell-6553d55b9c26f4bd",
          "locked": true,
          "schema_version": 3,
          "solution": false
        },
        "colab": {
          "base_uri": "https://localhost:8080/"
        },
        "id": "9x4AZZlvzDVg",
        "outputId": "9379c440-44df-4d7d-8031-5f5040911b33"
      },
      "outputs": [
        {
          "output_type": "execute_result",
          "data": {
            "text/plain": [
              "2"
            ]
          },
          "metadata": {},
          "execution_count": 6
        }
      ],
      "source": [
        "1 + 1"
      ]
    },
    {
      "cell_type": "markdown",
      "metadata": {
        "deletable": false,
        "editable": false,
        "nbgrader": {
          "cell_type": "markdown",
          "checksum": "4d8407700c10c19eae8c7fa47e05aaba",
          "grade": false,
          "grade_id": "cell-ab4da86beddc2aac",
          "locked": true,
          "schema_version": 3,
          "solution": false,
          "task": false
        },
        "id": "GOvi_5HWzDVh"
      },
      "source": [
        "## Cell output\n",
        "Note that when a jupyter notebook cell is run, if it has multiple lines of code that would otherwise generate printed text output in a terminal, only the output generated by the final code line is displayed below the cell."
      ]
    },
    {
      "cell_type": "code",
      "execution_count": 7,
      "metadata": {
        "deletable": false,
        "editable": false,
        "nbgrader": {
          "cell_type": "code",
          "checksum": "95a88a54fed0a6b4ed0f61449dce11ec",
          "grade": false,
          "grade_id": "cell-e38aa22989352741",
          "locked": true,
          "schema_version": 3,
          "solution": false,
          "task": false
        },
        "colab": {
          "base_uri": "https://localhost:8080/"
        },
        "id": "pmztXS-9zDVh",
        "outputId": "d2a3fe00-6e4e-4fb7-fa5e-d1dff892857a"
      },
      "outputs": [
        {
          "output_type": "execute_result",
          "data": {
            "text/plain": [
              "2.5"
            ]
          },
          "metadata": {},
          "execution_count": 7
        }
      ],
      "source": [
        "x = 5\n",
        "y = 2\n",
        "x+y\n",
        "x/y"
      ]
    },
    {
      "cell_type": "markdown",
      "metadata": {
        "deletable": false,
        "editable": false,
        "nbgrader": {
          "cell_type": "markdown",
          "checksum": "c04202c10f769efd58846d61cb3a6862",
          "grade": false,
          "grade_id": "cell-8471a2637544ecee",
          "locked": true,
          "schema_version": 3,
          "solution": false,
          "task": false
        },
        "id": "belyRO9mzDVh"
      },
      "source": [
        "There are other ways to print out multiple results, as in the two examples below."
      ]
    },
    {
      "cell_type": "code",
      "execution_count": 8,
      "metadata": {
        "deletable": false,
        "editable": false,
        "nbgrader": {
          "cell_type": "code",
          "checksum": "6ab232dc8782572c67e6b24db3b7a3b4",
          "grade": false,
          "grade_id": "cell-2a0edfd6e2c76215",
          "locked": true,
          "schema_version": 3,
          "solution": false,
          "task": false
        },
        "colab": {
          "base_uri": "https://localhost:8080/"
        },
        "id": "itrhhQKBzDVh",
        "outputId": "b7b2c7d8-602e-4415-cc89-e718505efb47"
      },
      "outputs": [
        {
          "output_type": "execute_result",
          "data": {
            "text/plain": [
              "(7, 2.5, 2, 25, 1)"
            ]
          },
          "metadata": {},
          "execution_count": 8
        }
      ],
      "source": [
        "x = 5\n",
        "y = 2\n",
        "# Do multiple calculations, and put them into a tuple\n",
        "x + y, x / y, x // y, x **y, x % y"
      ]
    },
    {
      "cell_type": "code",
      "execution_count": null,
      "metadata": {
        "deletable": false,
        "editable": false,
        "nbgrader": {
          "cell_type": "code",
          "checksum": "d968a1f53e67d21f13e4e04117b6ddeb",
          "grade": false,
          "grade_id": "cell-9d633c404341a65b",
          "locked": true,
          "schema_version": 3,
          "solution": false
        },
        "id": "pfMbEyDzzDVh"
      },
      "outputs": [],
      "source": [
        "# Use the print function\n",
        "x = 5\n",
        "y = 2\n",
        "print(f\"The sum is {x+y}.\")\n",
        "print(f\"The dividend is {x/y}.\")\n",
        "print(f\"The integer dividend is {x//y}.\")\n",
        "print(f\"5 squared is {x **y}.\")\n",
        "print(f\"The remainder is {x % y}.\")"
      ]
    },
    {
      "cell_type": "markdown",
      "metadata": {
        "deletable": false,
        "editable": false,
        "nbgrader": {
          "cell_type": "markdown",
          "checksum": "3ba9578b8cf05963ba73cba3d39a50af",
          "grade": false,
          "grade_id": "cell-7a18eb3cd1e61cf7",
          "locked": true,
          "schema_version": 3,
          "solution": false
        },
        "id": "lNuZYbAdzDVh"
      },
      "source": [
        "We can also do some simple logic flow:"
      ]
    },
    {
      "cell_type": "code",
      "execution_count": null,
      "metadata": {
        "deletable": false,
        "editable": false,
        "nbgrader": {
          "cell_type": "code",
          "checksum": "3627b91b67c3fc1f468708db96d86b78",
          "grade": false,
          "grade_id": "cell-3e16c14f956f2b1a",
          "locked": true,
          "schema_version": 3,
          "solution": false
        },
        "id": "8vlMBEaxzDVh"
      },
      "outputs": [],
      "source": [
        "score = 95\n",
        "if score > 90:\n",
        "    letterGrade = \"A\"\n",
        "elif score > 80:\n",
        "    letterGrade = \"B\"\n",
        "elif score > 70:\n",
        "    letterGrade = \"C\"\n",
        "else:\n",
        "    letterGrade = \"F\"\n",
        "\n",
        "print(f\"That score gets a letter grade of {letterGrade}.\")"
      ]
    },
    {
      "cell_type": "markdown",
      "metadata": {
        "deletable": false,
        "editable": false,
        "nbgrader": {
          "cell_type": "markdown",
          "checksum": "02236b673138155f29c3c543c71052f8",
          "grade": false,
          "grade_id": "cell-f9312f401649e3a7",
          "locked": true,
          "schema_version": 3,
          "solution": false
        },
        "id": "MvRV07EFzDVh"
      },
      "source": [
        "This is how we iterate in a loop:"
      ]
    },
    {
      "cell_type": "code",
      "execution_count": null,
      "metadata": {
        "deletable": false,
        "editable": false,
        "nbgrader": {
          "cell_type": "code",
          "checksum": "2e451d8cea0603b1f761b997b3a2bc69",
          "grade": false,
          "grade_id": "cell-e59fb2bb46809352",
          "locked": true,
          "schema_version": 3,
          "solution": false
        },
        "id": "KWb72rqYzDVh"
      },
      "outputs": [],
      "source": [
        "for i in range(1,11):\n",
        "    if i == 1:\n",
        "        print(\"This is the 1st time.\")\n",
        "    elif i == 2:\n",
        "        print(\"This is the 2nd time.\")\n",
        "    elif i == 3:\n",
        "        print(\"This is the 3rd time\")\n",
        "    else:\n",
        "        print(f\"This is the {i}th time\")"
      ]
    },
    {
      "cell_type": "markdown",
      "metadata": {
        "deletable": false,
        "editable": false,
        "nbgrader": {
          "cell_type": "markdown",
          "checksum": "1a9e91303bcd5aa91278f9084e891bb5",
          "grade": false,
          "grade_id": "cell-bb1dc327485927f9",
          "locked": true,
          "schema_version": 3,
          "solution": false
        },
        "id": "kSBYIERjzDVh"
      },
      "source": [
        "List comprehensions are a very powerful and useful tool in Python, here are a couple examples:"
      ]
    },
    {
      "cell_type": "code",
      "execution_count": null,
      "metadata": {
        "deletable": false,
        "editable": false,
        "nbgrader": {
          "cell_type": "code",
          "checksum": "a2f999b1578fb21751d619d5c93b02ac",
          "grade": false,
          "grade_id": "cell-d0ae3cbd43754620",
          "locked": true,
          "schema_version": 3,
          "solution": false
        },
        "id": "A3FMnOvNzDVh"
      },
      "outputs": [],
      "source": [
        "[i+1 for i in range(10)]"
      ]
    },
    {
      "cell_type": "code",
      "execution_count": null,
      "metadata": {
        "deletable": false,
        "editable": false,
        "nbgrader": {
          "cell_type": "code",
          "checksum": "7456bc574f132ce1de32b4ce66926fb8",
          "grade": false,
          "grade_id": "cell-11a0aab9a83df63c",
          "locked": true,
          "schema_version": 3,
          "solution": false
        },
        "id": "9_ZQhQiMzDVh"
      },
      "outputs": [],
      "source": [
        "[i**2 for i in range(10)]"
      ]
    },
    {
      "cell_type": "markdown",
      "metadata": {
        "deletable": false,
        "editable": false,
        "nbgrader": {
          "cell_type": "markdown",
          "checksum": "5fc65539145d93da96b33275556b0eb8",
          "grade": false,
          "grade_id": "cell-00be998c6552ee31",
          "locked": true,
          "schema_version": 3,
          "solution": false,
          "task": false
        },
        "id": "GWGDt8AJzDVh"
      },
      "source": [
        "## Passing by assignment\n",
        "\n",
        "In Python, arguments are passed by assignment.\n",
        "\n",
        "This means that setting a variable (`a`) equal to another variable (`b`) as shown here:\n",
        "\n",
        "`a = b`\n",
        "\n",
        "will assign `a` to a new copy of the reference of the object that `b` is currently referencing\n",
        "\n",
        "That's a real mouth full so let's look at an example of this and carefully analyze what is happening on each line to see what this actually means:"
      ]
    },
    {
      "cell_type": "code",
      "execution_count": null,
      "metadata": {
        "deletable": false,
        "editable": false,
        "nbgrader": {
          "cell_type": "code",
          "checksum": "4265b9354955216167990f6a2d5296b3",
          "grade": false,
          "grade_id": "cell-3e1fcdc378f85dc8",
          "locked": true,
          "schema_version": 3,
          "solution": false,
          "task": false
        },
        "id": "qrb73FrbzDVh"
      },
      "outputs": [],
      "source": [
        "# Create a string object and reference it using variable `b`\n",
        "b = \"super epic string\"\n",
        "\n",
        "# Create variable `a` and initialize it so that it also references the string that `b` is referencing\n",
        "a = b\n",
        "\n",
        "# Create a new string object and reference it using variable `b`\n",
        "# This causes `b` to abandon its prior reference to \"super epic string\"\n",
        "b = \"not so epic string\"\n",
        "\n",
        "# `a` still maintains its reference to \"super epic string\" (as shown by this assertion).\n",
        "# This is because when `a` was set equal to `b`, it was actually set equal to a new copy of the reference\n",
        "# to the object that `b` was already referencing\n",
        "assert a == \"super epic string\"\n",
        "assert b == \"not so epic string\"\n",
        "assert a != b"
      ]
    },
    {
      "cell_type": "markdown",
      "metadata": {
        "id": "uLn4BcFkzDVh"
      },
      "source": [
        "A string is an immutable type meaning that once it is created, it cannot be changed. A list, on the other hand, is mutable meaning that it can be changed after it is created.\n",
        "\n",
        "Because variables in Python are references to objects (rather than objects themselves), when two variables reference a mutable type that is changed after its creation, both variables will pick up on the changes.\n",
        "\n",
        "Let's look at a code snippet to see what this actually means:"
      ]
    },
    {
      "cell_type": "code",
      "execution_count": null,
      "metadata": {
        "deletable": false,
        "editable": false,
        "nbgrader": {
          "cell_type": "code",
          "checksum": "22184708d1cbcf8a5076af2a8c25eb08",
          "grade": false,
          "grade_id": "cell-d10cf62db6f4999d",
          "locked": true,
          "schema_version": 3,
          "solution": false,
          "task": false
        },
        "id": "ylvNipwIzDVh"
      },
      "outputs": [],
      "source": [
        "# Create a list object and reference it using variable `b`\n",
        "b = [0, 1, 2, 3]\n",
        "\n",
        "# Create variable `a` and initialize it so that it also references the list that `b` is referencing\n",
        "a = b\n",
        "\n",
        "# Use variable `b` to modify the list it is referencing at the `1th` index\n",
        "b[1] = 100\n",
        "\n",
        "# Assert that variable `b` successfully changed the list it is referencing\n",
        "assert b == [0, 100, 2, 3]\n",
        "\n",
        "# Assert that variable `a` references the same, changed object\n",
        "assert a == b == [0, 100, 2, 3]"
      ]
    },
    {
      "cell_type": "code",
      "execution_count": null,
      "metadata": {
        "deletable": false,
        "editable": false,
        "nbgrader": {
          "cell_type": "code",
          "checksum": "23b8a95bc7708c6803b51c01cebaf32c",
          "grade": false,
          "grade_id": "cell-30c9aeb41fe8ed86",
          "locked": true,
          "schema_version": 3,
          "solution": false,
          "task": false
        },
        "id": "h7_6MjhqzDVh"
      },
      "outputs": [],
      "source": [
        "# Now let's create a new list and reference it using variable `b`\n",
        "b = [0, 1, 2, 3]\n",
        "\n",
        "# Assert that `a` still references the original list and `b` references the new list\n",
        "assert a == [0, 100, 2, 3]\n",
        "assert b == [0, 1, 2, 3]\n",
        "assert a != b"
      ]
    },
    {
      "cell_type": "markdown",
      "metadata": {
        "deletable": false,
        "editable": false,
        "nbgrader": {
          "cell_type": "markdown",
          "checksum": "841ca23d89cfc0270829db4b65fa713c",
          "grade": false,
          "grade_id": "cell-0fd6cf79b45e337a",
          "locked": true,
          "schema_version": 3,
          "solution": false,
          "task": false
        },
        "id": "_5pJu9pnzDVk"
      },
      "source": [
        "## Copying objects\n",
        "\n",
        "Sometimes it is necessary to create an entirely new copy of an object rather than a new reference to the same object. For example, it may be necessary to completely duplicate the contents of `b` into `a` so that changes in `b` do not affect `a`.\n",
        "\n",
        "In these scenarios, copying can be used to create duplicate objects rather than a copy of a reference to the same object. There are two types of copies: shallow copies and deep copies.\n",
        "\n",
        "A shallow copy is less expensive than a deep copy because it only duplicates objects at the top level whereas a deep copy duplicates all objects at all levels (children + children of children).\n",
        "\n",
        "In Python, the `.copy()` method is provided with most data types. It offers a simple interface for performing shallow copies.\n",
        "\n",
        "Let's look at how Python's `.copy()` method actually works!"
      ]
    },
    {
      "cell_type": "code",
      "execution_count": null,
      "metadata": {
        "deletable": false,
        "editable": false,
        "nbgrader": {
          "cell_type": "code",
          "checksum": "1acf0f30a2a86b8f600dde3fa9f69b82",
          "grade": false,
          "grade_id": "cell-312a4eeefe5f4a58",
          "locked": true,
          "schema_version": 3,
          "solution": false,
          "task": false
        },
        "id": "ypESJPwCzDVk"
      },
      "outputs": [],
      "source": [
        "# Create a list object and reference it using variable `b`\n",
        "b = [0, 1, 2, 3, [\"child_list_0\", \"child_list_1\"]]\n",
        "\n",
        "# Create variable `a` and initialize it so that it references a duplicate of the list that `b` references\n",
        "a = b.copy()\n",
        "\n",
        "# Use variable `b` to modify the list it is referencing at the `1th` index\n",
        "b[1] = 100\n",
        "\n",
        "# Assert that variable `b` successfully changed the list it is referencing\n",
        "assert b == [0, 100, 2, 3, [\"child_list_0\", \"child_list_1\"]]\n",
        "\n",
        "# Assert that variable `a` did NOT register these changes\n",
        "assert a == [0, 1, 2, 3, [\"child_list_0\", \"child_list_1\"]] != b"
      ]
    },
    {
      "cell_type": "code",
      "execution_count": null,
      "metadata": {
        "deletable": false,
        "editable": false,
        "nbgrader": {
          "cell_type": "code",
          "checksum": "5253e65973582ba9d2575aad46e4d03b",
          "grade": false,
          "grade_id": "cell-d54e54553d7eb2f9",
          "locked": true,
          "schema_version": 3,
          "solution": false,
          "task": false
        },
        "id": "OVGvBla0zDVl"
      },
      "outputs": [],
      "source": [
        "# Now let's modify the inner child list both variables `a` and `b` contain\n",
        "b[4][0] = \"new_child_list_0\"\n",
        "\n",
        "# Assert that variable `b` successfully changed the inner list it is referencing\n",
        "assert b == [0, 100, 2, 3, [\"new_child_list_0\", \"child_list_1\"]]\n",
        "\n",
        "# Ok, here comes the tricky part\n",
        "# Variable `a`'s 4th term is a reference to a list (because, as discussed above, Python passes by assignment)\n",
        "# So, when .copy() was called, a duplicate of the reference to the list OBJECT was created.\n",
        "# Remember, Python's .copy() is a shallow copy so the inner list object was not also copied.\n",
        "# Therefore, variable `a`'s 4th index references the same list OBJECT that variable `b`'s 4th index references\n",
        "# For this reason, we assert that variable `a` registered the changes to the inner list made by variable `b`\n",
        "assert a == [0, 1, 2, 3, [\"new_child_list_0\", \"child_list_1\"]]"
      ]
    },
    {
      "cell_type": "markdown",
      "metadata": {
        "deletable": false,
        "editable": false,
        "nbgrader": {
          "cell_type": "markdown",
          "checksum": "a0ccbc78fcad897f1632690bd926fb7c",
          "grade": false,
          "grade_id": "cell-a4df34f3c813f159",
          "locked": true,
          "schema_version": 3,
          "solution": false,
          "task": false
        },
        "id": "fQtc7MNrzDVl"
      },
      "source": [
        "If you need to create a completely new copy of an object, such that all contents of `a`, including children, are true duplicates of the contents of `b`, one helpful way is to use the `.deepcopy()` function found in the `copy` package."
      ]
    },
    {
      "cell_type": "code",
      "execution_count": null,
      "metadata": {
        "id": "IwslqgZizDVl"
      },
      "outputs": [],
      "source": [
        "# Use `pip` to install copy (if you don't already have it)\n",
        "# ! pip install copy\n",
        "import copy\n",
        "\n",
        "b = [0, 1, 2, 3, [\"child_list_0\", \"child_list_1\"]]\n",
        "\n",
        "# Make a deep copy of b\n",
        "a = copy.deepcopy(b)\n",
        "\n",
        "# Alter a child (deep) element of b\n",
        "b[4][0] = \"new_child_list_0\"\n",
        "\n",
        "# Assert that variable `b` successfully changed the list it is referencing\n",
        "assert b == [0, 1, 2, 3, [\"new_child_list_0\", \"child_list_1\"]]\n",
        "\n",
        "# Assert that variable `a` did NOT register these changes\n",
        "assert a == [0, 1, 2, 3, [\"child_list_0\", \"child_list_1\"]] != b"
      ]
    },
    {
      "cell_type": "markdown",
      "metadata": {
        "deletable": false,
        "editable": false,
        "nbgrader": {
          "cell_type": "markdown",
          "checksum": "021075ef0de25b36fb6d2dc153d63058",
          "grade": false,
          "grade_id": "cell-a1d7d137a1ea28cd",
          "locked": true,
          "schema_version": 3,
          "solution": false
        },
        "id": "e9V71H4mzDVl"
      },
      "source": [
        "## Functions\n",
        "We can also define some functions in Python. Here's an example function that gets the square root of sum of the squares in a list. Does this sound familiar?"
      ]
    },
    {
      "cell_type": "code",
      "execution_count": null,
      "metadata": {
        "deletable": false,
        "editable": false,
        "nbgrader": {
          "cell_type": "code",
          "checksum": "fba46a4ea29b8e90750ce6179bc9a410",
          "grade": false,
          "grade_id": "cell-a0bd8f6fc1cc93f7",
          "locked": true,
          "schema_version": 3,
          "solution": false
        },
        "id": "jTfy15S3zDVl"
      },
      "outputs": [],
      "source": [
        "def get_metric(vector):\n",
        "    \"\"\"Get the square root of the sum of the squares in an iterable.\n",
        "\n",
        "    Args:\n",
        "        vector (iterable): the data to calculate the metric of\n",
        "\n",
        "    Returns:\n",
        "        float\n",
        "    \"\"\"\n",
        "    return sum([i ** 2 for i in vector])**(1/2)"
      ]
    },
    {
      "cell_type": "code",
      "execution_count": null,
      "metadata": {
        "deletable": false,
        "editable": false,
        "nbgrader": {
          "cell_type": "code",
          "checksum": "964a68bc33150402f933dc5b2f35ef7b",
          "grade": false,
          "grade_id": "cell-3b6b1a25c20f29d9",
          "locked": true,
          "schema_version": 3,
          "solution": false
        },
        "id": "GSH9nFMzzDVl"
      },
      "outputs": [],
      "source": [
        "get_metric([3,4])"
      ]
    },
    {
      "cell_type": "markdown",
      "metadata": {
        "deletable": false,
        "editable": false,
        "nbgrader": {
          "cell_type": "markdown",
          "checksum": "b1bd05d656a457be78e1546bbf846be2",
          "grade": false,
          "grade_id": "cell-fe0f215cfa29f3c7",
          "locked": true,
          "schema_version": 3,
          "solution": false
        },
        "id": "mbfnWON6zDVl"
      },
      "source": [
        "That metric was the $\\ell_2$-norm. Can you write a function that takes a vector and value for p and determines the $\\ell_p$-norm of a vector?"
      ]
    },
    {
      "cell_type": "code",
      "execution_count": 10,
      "metadata": {
        "deletable": false,
        "nbgrader": {
          "cell_type": "code",
          "checksum": "9d2bb18fb9801a7009695149cbba6fad",
          "grade": false,
          "grade_id": "get_lp",
          "locked": false,
          "schema_version": 3,
          "solution": true
        },
        "id": "-HWCSC7rzDVl"
      },
      "outputs": [],
      "source": [
        "def get_lp(vector, p):\n",
        "    \"\"\"Get the $\\ell_p$-norm of data\n",
        "\n",
        "    Args:\n",
        "        vector (iterable): the data to calculate the metric of\n",
        "        p (integer): the value of p in the $\\\n",
        "\n",
        "    Returns:\n",
        "        float\n",
        "    \"\"\"\n",
        "    # YOUR CODE HERE\n",
        "    return sum([i ** p for i in vector])**(1/p)\n",
        "    # NOTE: you will be seeing a lot of these NotImplementedError()'s throughout the semester.\n",
        "    # You need to take them out once you start working on the specific section of the assignment."
      ]
    },
    {
      "cell_type": "code",
      "execution_count": null,
      "metadata": {
        "deletable": false,
        "editable": false,
        "nbgrader": {
          "cell_type": "code",
          "checksum": "bd41f32c8d71d8b2f4a3129cdb9fea10",
          "grade": false,
          "grade_id": "cell-ba4c86eda6c7d625",
          "locked": true,
          "schema_version": 3,
          "solution": false
        },
        "id": "rEE163ZLzDVl"
      },
      "outputs": [],
      "source": [
        "# Use `pip` to install pytest (if you don't already have it)\n",
        "# ! pip install pytest\n",
        "import pytest"
      ]
    },
    {
      "cell_type": "code",
      "execution_count": null,
      "metadata": {
        "deletable": false,
        "editable": false,
        "nbgrader": {
          "cell_type": "code",
          "checksum": "abdf7fdd046ecf2b52dde726d72b3ee9",
          "grade": true,
          "grade_id": "test_get_lp",
          "locked": true,
          "points": 10,
          "schema_version": 3,
          "solution": false
        },
        "id": "HUnO8CJPzDVl"
      },
      "outputs": [],
      "source": [
        "assert get_lp([3,4],2) == 5\n",
        "assert get_lp([3,4,5],2) == pytest.approx(7,0.1)\n",
        "assert get_lp([10], 5) == pytest.approx(10)"
      ]
    },
    {
      "cell_type": "markdown",
      "metadata": {
        "deletable": false,
        "editable": false,
        "nbgrader": {
          "cell_type": "markdown",
          "checksum": "3809b0083feea5f1a46be59970a91992",
          "grade": false,
          "grade_id": "cell-80342215c1ce3b68",
          "locked": true,
          "schema_version": 3,
          "solution": false
        },
        "id": "A6JO6mMuzDVl"
      },
      "source": [
        "We can also write functions in shorthand using `lambda` this creates an anonymous function. This is useful when we're using maps and filters."
      ]
    },
    {
      "cell_type": "code",
      "execution_count": null,
      "metadata": {
        "deletable": false,
        "editable": false,
        "nbgrader": {
          "cell_type": "code",
          "checksum": "d27caab9a21684d84addbec70e332307",
          "grade": false,
          "grade_id": "cell-5e0a0882e00433f7",
          "locked": true,
          "schema_version": 3,
          "solution": false
        },
        "id": "wxNqX1vTzDVl"
      },
      "outputs": [],
      "source": [
        "lambda x : x**2"
      ]
    },
    {
      "cell_type": "code",
      "execution_count": null,
      "metadata": {
        "deletable": false,
        "editable": false,
        "nbgrader": {
          "cell_type": "code",
          "checksum": "a6de31d40f702b0ac70f4d379f21d514",
          "grade": false,
          "grade_id": "cell-a098a85eb68708fc",
          "locked": true,
          "schema_version": 3,
          "solution": false
        },
        "id": "BNukxN1MzDVl"
      },
      "outputs": [],
      "source": [
        "example_map = map(lambda x: x**3,[1,2,3,4,5])\n",
        "list(example_map)"
      ]
    },
    {
      "cell_type": "code",
      "execution_count": null,
      "metadata": {
        "deletable": false,
        "editable": false,
        "nbgrader": {
          "cell_type": "code",
          "checksum": "e4ffbe96386e9d67b7671b5ace1a16c9",
          "grade": false,
          "grade_id": "cell-c73baa850c834cf3",
          "locked": true,
          "schema_version": 3,
          "solution": false
        },
        "id": "cnMc4yHxzDVl"
      },
      "outputs": [],
      "source": [
        "example_filter = filter(lambda x: x%2 == 1, [1,2,3,4,5])\n",
        "list(example_filter)"
      ]
    },
    {
      "cell_type": "markdown",
      "metadata": {
        "deletable": false,
        "editable": false,
        "nbgrader": {
          "cell_type": "markdown",
          "checksum": "57493eeac208c2e65e52b7060fe4da41",
          "grade": false,
          "grade_id": "cell-77e9acd480be4bfa",
          "locked": true,
          "schema_version": 3,
          "solution": false
        },
        "id": "u3xf35bmzDVl"
      },
      "source": [
        "Python has a great ecosystem of libraries available and we will be using them for almost all the code we write. Here's how to import code in Python. I recommend reading up on the intricacies of imports. [1](https://stackoverflow.com/a/710603) [2](https://stackoverflow.com/a/19185936)\n",
        "\n",
        "You're probably going to see the below imports and couple lines of code very frequently at the top of most files we write. First we import the libraries we often use; [numpy](https://www.numpy.org/), [pandas](https://pandas.pydata.org/), [matplotlib](https://matplotlib.org/), and [scikit-learn](https://scikit-learn.org/). The last two lines are for setting plots to show in the notebook directly and not open up in another window and to select the styleguide for the plots we make to ggplot. You can select another style from the [available options](https://matplotlib.org/gallery/style_sheets/style_sheets_reference.html) if you like.\n"
      ]
    },
    {
      "cell_type": "code",
      "execution_count": 18,
      "metadata": {
        "deletable": false,
        "editable": false,
        "nbgrader": {
          "cell_type": "code",
          "checksum": "a447c64f80515703c31b51a2cc62fdcd",
          "grade": false,
          "grade_id": "cell-c0b7f22ce2b50a72",
          "locked": true,
          "schema_version": 3,
          "solution": false
        },
        "id": "e27Qq-9VzDVm"
      },
      "outputs": [],
      "source": [
        "import numpy as np\n",
        "import pandas as pd\n",
        "import matplotlib\n",
        "import matplotlib.pyplot as plt\n",
        "import sklearn as sk\n",
        "\n",
        "%matplotlib inline\n",
        "plt.style.use(\"ggplot\")"
      ]
    },
    {
      "cell_type": "markdown",
      "metadata": {
        "deletable": false,
        "editable": false,
        "nbgrader": {
          "cell_type": "markdown",
          "checksum": "b929d913dee3489b6955e4340c80e5ec",
          "grade": false,
          "grade_id": "cell-da0ae52b649853c0",
          "locked": true,
          "schema_version": 3,
          "solution": false
        },
        "id": "srmqxbgJzDVm"
      },
      "source": [
        "## Data Visualization\n",
        "\n",
        "Let's go over some data visualization basics. To start, we'll need some data. We'll create data from a function with some noise and see if we can fit a polynomial to it. Parts of the following are extracted from the following sklearn tutorials. [1](http://scikit-learn.org/stable/auto_examples/model_selection/plot_underfitting_overfitting.html) [2](http://scikit-learn.org/stable/auto_examples/model_selection/plot_validation_curve.html)"
      ]
    },
    {
      "cell_type": "code",
      "execution_count": 19,
      "metadata": {
        "deletable": false,
        "editable": false,
        "nbgrader": {
          "cell_type": "code",
          "checksum": "1f4e3639b71e1bd334df6dd745449d0e",
          "grade": false,
          "grade_id": "cell-0f8c3a50b70fb467",
          "locked": true,
          "schema_version": 3,
          "solution": false
        },
        "id": "Us7ChVavzDVm"
      },
      "outputs": [],
      "source": [
        "def underlying_pattern(X, noise=0.1):\n",
        "    \"\"\"Create a function to fit\n",
        "\n",
        "    Args:\n",
        "        X numpy.array : array of x values\n",
        "\n",
        "    Returns:\n",
        "        numpy.array : array of output values\n",
        "    \"\"\"\n",
        "    return np.cos(1.5 * np.pi * X) + np.random.randn(X.shape[0]) * noise"
      ]
    },
    {
      "cell_type": "markdown",
      "metadata": {
        "deletable": false,
        "editable": false,
        "nbgrader": {
          "cell_type": "markdown",
          "checksum": "e84ed58873fc9a3c248157a0b161234b",
          "grade": false,
          "grade_id": "cell-d6dc35df488ee449",
          "locked": true,
          "schema_version": 3,
          "solution": false
        },
        "id": "qKu64V6kzDVm"
      },
      "source": [
        "You should always set a seed value so that you get reproducable results."
      ]
    },
    {
      "cell_type": "code",
      "execution_count": 20,
      "metadata": {
        "deletable": false,
        "editable": false,
        "nbgrader": {
          "cell_type": "code",
          "checksum": "5b90dc9ca99be485bf7986a719dfe688",
          "grade": false,
          "grade_id": "cell-762249e498c324d6",
          "locked": true,
          "schema_version": 3,
          "solution": false
        },
        "id": "PjHxP8qOzDVm"
      },
      "outputs": [],
      "source": [
        "np.random.seed(0)"
      ]
    },
    {
      "cell_type": "code",
      "execution_count": 21,
      "metadata": {
        "deletable": false,
        "editable": false,
        "nbgrader": {
          "cell_type": "code",
          "checksum": "fa5022ac15ae921302ebd6eeeb7b2388",
          "grade": false,
          "grade_id": "cell-e166fb21accbb415",
          "locked": true,
          "schema_version": 3,
          "solution": false
        },
        "id": "V2mvv8g9zDVm"
      },
      "outputs": [],
      "source": [
        "n = 200\n",
        "X = np.sort(np.random.rand(n))\n",
        "y = underlying_pattern(X)"
      ]
    },
    {
      "cell_type": "code",
      "execution_count": 22,
      "metadata": {
        "deletable": false,
        "editable": false,
        "nbgrader": {
          "cell_type": "code",
          "checksum": "53c1dff2f2edb60415dbd0d379be60cf",
          "grade": false,
          "grade_id": "cell-582574238b36c9b5",
          "locked": true,
          "schema_version": 3,
          "solution": false
        },
        "colab": {
          "base_uri": "https://localhost:8080/",
          "height": 477
        },
        "id": "UQR475hOzDVm",
        "outputId": "86b3dbc0-97d4-47d2-9814-af06a6eb47bf"
      },
      "outputs": [
        {
          "output_type": "display_data",
          "data": {
            "text/plain": [
              "<Figure size 640x480 with 1 Axes>"
            ],
            "image/png": "[encoded data removed]"
          },
          "metadata": {}
        }
      ],
      "source": [
        "plt.plot(X, y, marker=\"o\", linestyle=\"None\")\n",
        "# plt.scatter(X, y) # This might be easier to remember, both functions accomplish the same thing. Try switching to the commented one.\n",
        "plt.xlabel(\"x\")\n",
        "plt.ylabel(\"y\")\n",
        "plt.title(\"Sample Data\")\n",
        "plt.xlim((0, 1))\n",
        "plt.ylim((-2, 2))\n",
        "plt.show()"
      ]
    },
    {
      "cell_type": "markdown",
      "metadata": {
        "deletable": false,
        "editable": false,
        "nbgrader": {
          "cell_type": "markdown",
          "checksum": "201f427cef0a13393114c0aba49f7ff8",
          "grade": false,
          "grade_id": "cell-7c0b2325851d9f90",
          "locked": true,
          "schema_version": 3,
          "solution": false
        },
        "id": "L6WRrwlJzDVm"
      },
      "source": [
        "## Machine Learning Workflow\n",
        "\n",
        "Now that we have some data, let's try to fit a machine learning model, the one we already covered, polynomial regression, to the data. For now, you'll get all the code you need to run this experiment."
      ]
    },
    {
      "cell_type": "code",
      "execution_count": 23,
      "metadata": {
        "deletable": false,
        "editable": false,
        "nbgrader": {
          "cell_type": "code",
          "checksum": "89046734d89a9da1128499652b4b3485",
          "grade": false,
          "grade_id": "cell-42a470070c6016a6",
          "locked": true,
          "schema_version": 3,
          "solution": false
        },
        "id": "0QXRfAHIzDVm"
      },
      "outputs": [],
      "source": [
        "from sklearn.model_selection import train_test_split\n",
        "from sklearn.pipeline import Pipeline\n",
        "from sklearn.preprocessing import PolynomialFeatures\n",
        "from sklearn.linear_model import LinearRegression"
      ]
    },
    {
      "cell_type": "code",
      "execution_count": 24,
      "metadata": {
        "deletable": false,
        "editable": false,
        "nbgrader": {
          "cell_type": "code",
          "checksum": "5cdd33bcbd3e648a6c62f0c6f3d91e38",
          "grade": false,
          "grade_id": "cell-87c0fdb1dec63419",
          "locked": true,
          "schema_version": 3,
          "solution": false
        },
        "colab": {
          "base_uri": "https://localhost:8080/"
        },
        "id": "a6HivSqgzDVm",
        "outputId": "4820cb2c-d750-4ba7-b933-880a34e95ef0"
      },
      "outputs": [
        {
          "output_type": "stream",
          "name": "stdout",
          "text": [
            "All Data:        200 points\n",
            "Training data:   160 points\n",
            "Testing data:    40 points\n",
            "Modeling data:   128 points\n",
            "Validation data: 32 points\n"
          ]
        }
      ],
      "source": [
        "X_train, X_test, y_train, y_test = train_test_split(X, y, random_state=0, test_size=0.2)\n",
        "X_model, X_valid, y_model, y_valid = train_test_split(X_train, y_train, random_state=0, test_size=0.2)\n",
        "\n",
        "print(f\"All Data:        {len(X)} points\")\n",
        "print(f\"Training data:   {len(X_train)} points\")\n",
        "print(f\"Testing data:    {len(X_test)} points\")\n",
        "print(f\"Modeling data:   {len(X_model)} points\")\n",
        "print(f\"Validation data: {len(X_valid)} points\")"
      ]
    },
    {
      "cell_type": "code",
      "execution_count": 25,
      "metadata": {
        "deletable": false,
        "editable": false,
        "nbgrader": {
          "cell_type": "code",
          "checksum": "20828ef920e73852ae0f7d8cf75ea4a7",
          "grade": false,
          "grade_id": "cell-5f32f5d556fff0a7",
          "locked": true,
          "schema_version": 3,
          "solution": false
        },
        "colab": {
          "base_uri": "https://localhost:8080/",
          "height": 477
        },
        "id": "UIaaryEyzDVm",
        "outputId": "04fce681-9a9c-4245-cd0a-eed9aa49ea44"
      },
      "outputs": [
        {
          "output_type": "display_data",
          "data": {
            "text/plain": [
              "<Figure size 640x480 with 1 Axes>"
            ],
            "image/png": "[encoded data removed]"
          },
          "metadata": {}
        }
      ],
      "source": [
        "plt.plot(X_model, y_model, marker=\"o\", linestyle=\"None\")\n",
        "# plt.scatter(X, y) # This might be easier to remember, both functions accomplish the same thing. Try switching the commented one.\n",
        "plt.xlabel(\"x\")\n",
        "plt.ylabel(\"y\")\n",
        "plt.title(\"Model Data\")\n",
        "plt.xlim((0, 1))\n",
        "plt.ylim((-2, 2))\n",
        "plt.show()"
      ]
    },
    {
      "cell_type": "markdown",
      "metadata": {
        "deletable": false,
        "editable": false,
        "nbgrader": {
          "cell_type": "markdown",
          "checksum": "39fa092a119c03d9d38856cf60f18e93",
          "grade": false,
          "grade_id": "cell-947386f119299c0b",
          "locked": true,
          "schema_version": 3,
          "solution": false
        },
        "id": "Cul5aqt4zDVm"
      },
      "source": [
        "Here you can train a model by manually adjusting the hyperparameter, in this case the polynomial order."
      ]
    },
    {
      "cell_type": "code",
      "execution_count": 12,
      "metadata": {
        "deletable": false,
        "editable": false,
        "nbgrader": {
          "cell_type": "code",
          "checksum": "6d382a6ddd61c33dff14778b69093cd0",
          "grade": false,
          "grade_id": "cell-05370df6a4aec440",
          "locked": true,
          "schema_version": 3,
          "solution": false
        },
        "id": "PZY-jYVTzDVm"
      },
      "outputs": [],
      "source": [
        "import math"
      ]
    },
    {
      "cell_type": "code",
      "execution_count": 35,
      "metadata": {
        "colab": {
          "base_uri": "https://localhost:8080/",
          "height": 487
        },
        "id": "4lWPL42LzDVm",
        "outputId": "278f7c50-8b19-456e-b8af-869b1a253e14"
      },
      "outputs": [
        {
          "output_type": "display_data",
          "data": {
            "text/plain": [
              "<Figure size 640x480 with 1 Axes>"
            ],
            "image/png": "[encoded data removed]"
          },
          "metadata": {}
        }
      ],
      "source": [
        "## Change this value and check out the resulting plot\n",
        "order = 99\n",
        "\n",
        "\n",
        "## Don't worry about the below code for now\n",
        "xMin = math.floor(X_model.min())\n",
        "xMax = math.ceil(X_model.min())\n",
        "polynomial_features = PolynomialFeatures(degree=order, include_bias=False)\n",
        "linear_regression = LinearRegression()\n",
        "pipeline = Pipeline([(\"polynomial_features\", polynomial_features),\n",
        "                         (\"linear_regression\", linear_regression)])\n",
        "pipeline.fit(X_model[:, np.newaxis], y_model)\n",
        "\n",
        "plt.plot(X_model, y_model, marker=\"o\", linestyle=\"None\")\n",
        "plt.plot(np.linspace(xMin,xMax), pipeline.predict(np.linspace(xMin,xMax)[:, np.newaxis]))\n",
        "plt.xlabel(\"x\")\n",
        "plt.ylabel(\"y\")\n",
        "plt.title(f\"Order {order}\")\n",
        "plt.xlim((0, 1))\n",
        "plt.ylim((-2, 2))\n",
        "plt.tight_layout()\n",
        "plt.show()"
      ]
    },
    {
      "cell_type": "markdown",
      "metadata": {
        "deletable": false,
        "editable": false,
        "nbgrader": {
          "cell_type": "markdown",
          "checksum": "4c9db734f28bffca403c98030e793616",
          "grade": false,
          "grade_id": "cell-eb7c15a5c4a49fb4",
          "locked": true,
          "schema_version": 3,
          "solution": false
        },
        "id": "hZ5k52FNzDVm"
      },
      "source": [
        "By switching the order we can see the new models generated. At first, using a larger order does better but after we reach a certain point, the model begins to overfit. Let's try to determine the best value for the hyperparemeter. In order to do that, we must select a metric to use to measure the effectiveness of a model. You can select any of the available [regression metrics from sklearn](http://scikit-learn.org/stable/modules/classes.html#regression-metrics) or develop your own.\n",
        "\n",
        "In this example, we will start with the mean squared error. A better model will have a lower value for mean squared error."
      ]
    },
    {
      "cell_type": "code",
      "execution_count": 36,
      "metadata": {
        "deletable": false,
        "editable": false,
        "nbgrader": {
          "cell_type": "code",
          "checksum": "b12441f3ee805ddc4added5b8354da40",
          "grade": false,
          "grade_id": "cell-14046447519273ac",
          "locked": true,
          "schema_version": 3,
          "solution": false
        },
        "id": "lpFJ2MgYzDVm"
      },
      "outputs": [],
      "source": [
        "from sklearn.metrics import mean_squared_error"
      ]
    },
    {
      "cell_type": "code",
      "execution_count": 37,
      "metadata": {
        "id": "mRIvl1T2zDVm"
      },
      "outputs": [],
      "source": [
        "# Feel free to change up to which order you go up to\n",
        "orders = range(1,50)\n",
        "\n",
        "scores = []\n",
        "training_scores = []\n",
        "for order in orders:\n",
        "    polynomial_features = PolynomialFeatures(degree=order, include_bias=False)\n",
        "    linear_regression = LinearRegression()\n",
        "    pipeline = Pipeline([(\"polynomial_features\", polynomial_features),\n",
        "                             (\"linear_regression\", linear_regression)])\n",
        "    pipeline.fit(X_model[:, np.newaxis], y_model)\n",
        "    training_scores.append(mean_squared_error(y_model, pipeline.predict(X_model[:, np.newaxis])))\n",
        "    scores.append(mean_squared_error(y_valid, pipeline.predict(X_valid[:, np.newaxis])))"
      ]
    },
    {
      "cell_type": "code",
      "execution_count": 38,
      "metadata": {
        "deletable": false,
        "editable": false,
        "nbgrader": {
          "cell_type": "code",
          "checksum": "c5827a14d1fa79f08555b1955e0c3583",
          "grade": false,
          "grade_id": "cell-11fddf677a60b3a9",
          "locked": true,
          "schema_version": 3,
          "solution": false
        },
        "colab": {
          "base_uri": "https://localhost:8080/",
          "height": 477
        },
        "id": "hnPqu4D5zDVn",
        "outputId": "bca65dce-155d-4c9c-f8b1-32b6b850b52b"
      },
      "outputs": [
        {
          "output_type": "display_data",
          "data": {
            "text/plain": [
              "<Figure size 640x480 with 1 Axes>"
            ],
            "image/png": "[encoded data removed]"
          },
          "metadata": {}
        }
      ],
      "source": [
        "plt.plot(orders, training_scores, label=\"Training Score\")\n",
        "plt.plot(orders, scores, label=\"Validation Score\")\n",
        "plt.title(\"Model Comparison\")\n",
        "plt.xlabel(\"Order\")\n",
        "plt.ylabel(\"Mean Squared Error\")\n",
        "plt.legend(loc=\"best\")\n",
        "plt.show()"
      ]
    },
    {
      "cell_type": "code",
      "execution_count": 39,
      "metadata": {
        "colab": {
          "base_uri": "https://localhost:8080/",
          "height": 477
        },
        "id": "KP5MfAqDzDVn",
        "outputId": "c9c4124f-655b-4b2d-891f-b82c80e3e80f"
      },
      "outputs": [
        {
          "output_type": "display_data",
          "data": {
            "text/plain": [
              "<Figure size 640x480 with 1 Axes>"
            ],
            "image/png": "[encoded data removed]"
          },
          "metadata": {}
        }
      ],
      "source": [
        "# Feel free to change the count of values to plot\n",
        "plot_first = 20\n",
        "plt.plot(orders[:plot_first], training_scores[:plot_first], label=\"Training Score\")\n",
        "plt.plot(orders[:plot_first], scores[:plot_first], label=\"Validation Score\")\n",
        "plt.title(\"Model Comparison\")\n",
        "plt.xlabel(\"Order\")\n",
        "plt.ylabel(\"Mean Squared Error\")\n",
        "plt.legend(loc=\"best\")\n",
        "plt.show()"
      ]
    },
    {
      "cell_type": "markdown",
      "metadata": {
        "deletable": false,
        "editable": false,
        "nbgrader": {
          "cell_type": "markdown",
          "checksum": "32850ed926795fe0abe7712389a10d14",
          "grade": false,
          "grade_id": "cell-31fd216d885230a7",
          "locked": true,
          "schema_version": 3,
          "solution": false
        },
        "id": "HL-218kHzDVn"
      },
      "source": [
        "Now based on the above figure, select an order and let's see how it performs on the test set."
      ]
    },
    {
      "cell_type": "code",
      "execution_count": 40,
      "metadata": {
        "deletable": false,
        "nbgrader": {
          "cell_type": "code",
          "checksum": "bf71a021f81fbbd3937947b2219cf057",
          "grade": false,
          "grade_id": "selected_order",
          "locked": false,
          "schema_version": 3,
          "solution": true
        },
        "id": "vOM0LuL9zDVn"
      },
      "outputs": [],
      "source": [
        "# Set the value of selectedOrder to what you think the best hyperparameter value should be\n",
        "# YOUR CODE HERE\n",
        "selectedOrder=5"
      ]
    },
    {
      "cell_type": "code",
      "execution_count": 41,
      "metadata": {
        "deletable": false,
        "editable": false,
        "nbgrader": {
          "cell_type": "code",
          "checksum": "a3e80252e2d8befb40aa74b0b1b10c34",
          "grade": false,
          "grade_id": "cell-d329d14964b5584d",
          "locked": true,
          "schema_version": 3,
          "solution": false
        },
        "colab": {
          "base_uri": "https://localhost:8080/"
        },
        "id": "Fk1omgGVzDVn",
        "outputId": "6e4e1874-ed8f-4f3e-bb97-ede79dacfac1"
      },
      "outputs": [
        {
          "output_type": "stream",
          "name": "stdout",
          "text": [
            "The selected hyperparameter obtained a score of 0.009059609412473942 in validation and a score of 0.011160693987074862 in testing.\n",
            "Good job!\n"
          ]
        }
      ],
      "source": [
        "polynomial_features = PolynomialFeatures(degree=selectedOrder, include_bias=False)\n",
        "linear_regression = LinearRegression()\n",
        "pipeline = Pipeline([(\"polynomial_features\", polynomial_features),\n",
        "                         (\"linear_regression\", linear_regression)])\n",
        "\n",
        "# Now we train on all the training data\n",
        "pipeline.fit(X_train[:, np.newaxis], y_train)\n",
        "# And test on the test data\n",
        "test_score = mean_squared_error(y_test, pipeline.predict(X_test[:, np.newaxis]))\n",
        "train_score = scores[selectedOrder-1]\n",
        "\n",
        "print(f\"The selected hyperparameter obtained a score of {train_score} in validation and a score of {test_score} in testing.\")\n",
        "if abs(test_score - train_score) < 0.01 or test_score < train_score:\n",
        "    print(\"Good job!\")\n",
        "else:\n",
        "    print(\"You might want to try again!\")"
      ]
    },
    {
      "cell_type": "code",
      "execution_count": 42,
      "metadata": {
        "deletable": false,
        "editable": false,
        "nbgrader": {
          "cell_type": "code",
          "checksum": "69cb4e03430e87e8998cfea183ae2244",
          "grade": true,
          "grade_id": "test_selected_order",
          "locked": true,
          "points": 10,
          "schema_version": 3,
          "solution": false
        },
        "id": "oGqmZhCxzDVn"
      },
      "outputs": [],
      "source": [
        "assert abs(test_score - train_score) < 0.01 or test_score < train_score"
      ]
    },
    {
      "cell_type": "markdown",
      "metadata": {
        "id": "JvXIrfWfzDVn"
      },
      "source": [
        "# Grading\n",
        "The following code block is purely used for grading. If you find any error, you can ignore. DO NOT MODIFY THE CODE BLOCK BELOW."
      ]
    },
    {
      "cell_type": "code",
      "execution_count": 44,
      "metadata": {
        "colab": {
          "base_uri": "https://localhost:8080/",
          "height": 366
        },
        "id": "vudaD3ZyzDVn",
        "outputId": "1b48be6f-ea1a-4a63-930f-28ca63bbfe54"
      },
      "outputs": [
        {
          "output_type": "error",
          "ename": "ModuleNotFoundError",
          "evalue": "No module named 'otter'",
          "traceback": [
            "\u001b[0;31m---------------------------------------------------------------------------\u001b[0m",
            "\u001b[0;31mModuleNotFoundError\u001b[0m                       Traceback (most recent call last)",
            "\u001b[0;32m<ipython-input-44-310df8106095>\u001b[0m in \u001b[0;36m<cell line: 2>\u001b[0;34m()\u001b[0m\n\u001b[1;32m      1\u001b[0m \u001b[0;31m# Autograding with Otter Grader\u001b[0m\u001b[0;34m\u001b[0m\u001b[0;34m\u001b[0m\u001b[0m\n\u001b[0;32m----> 2\u001b[0;31m \u001b[0;32mimport\u001b[0m \u001b[0motter\u001b[0m\u001b[0;34m\u001b[0m\u001b[0;34m\u001b[0m\u001b[0m\n\u001b[0m\u001b[1;32m      3\u001b[0m \u001b[0mgrader\u001b[0m \u001b[0;34m=\u001b[0m \u001b[0motter\u001b[0m\u001b[0;34m.\u001b[0m\u001b[0mNotebook\u001b[0m\u001b[0;34m(\u001b[0m\u001b[0;34m)\u001b[0m\u001b[0;34m\u001b[0m\u001b[0;34m\u001b[0m\u001b[0m\n\u001b[1;32m      4\u001b[0m \u001b[0mgrader\u001b[0m\u001b[0;34m.\u001b[0m\u001b[0mcheck_all\u001b[0m\u001b[0;34m(\u001b[0m\u001b[0;34m)\u001b[0m\u001b[0;34m\u001b[0m\u001b[0;34m\u001b[0m\u001b[0m\n",
            "\u001b[0;31mModuleNotFoundError\u001b[0m: No module named 'otter'",
            "",
            "\u001b[0;31m---------------------------------------------------------------------------\u001b[0;32m\nNOTE: If your import is failing due to a missing package, you can\nmanually install dependencies using either !pip or !apt.\n\nTo view examples of installing some common dependencies, click the\n\"Open Examples\" button below.\n\u001b[0;31m---------------------------------------------------------------------------\u001b[0m\n"
          ],
          "errorDetails": {
            "actions": [
              {
                "action": "open_url",
                "actionText": "Open Examples",
                "url": "/notebooks/snippets/importing_libraries.ipynb"
              }
            ]
          }
        }
      ],
      "source": [
        "# Autograding with Otter Grader\n",
        "import otter\n",
        "grader = otter.Notebook()\n",
        "grader.check_all()"
      ]
    },
    {
      "cell_type": "markdown",
      "metadata": {
        "deletable": false,
        "editable": false,
        "nbgrader": {
          "cell_type": "markdown",
          "checksum": "9a64f084e0f3c0a6c2d88fa8d1b7cd5f",
          "grade": false,
          "grade_id": "cell-66dbab89c710fad5",
          "locked": true,
          "schema_version": 3,
          "solution": false
        },
        "id": "rTIFOhBEzDVn"
      },
      "source": [
        "## Feedback"
      ]
    },
    {
      "cell_type": "code",
      "execution_count": null,
      "metadata": {
        "deletable": false,
        "nbgrader": {
          "cell_type": "code",
          "checksum": "ed936ab53a1391c5e6af8df699a1dbf5",
          "grade": false,
          "grade_id": "feedback",
          "locked": false,
          "schema_version": 3,
          "solution": true
        },
        "id": "qjERc_jHzDVn"
      },
      "outputs": [],
      "source": [
        "def feedback():\n",
        "    \"\"\"Provide feedback on the contents of this exercise\n",
        "\n",
        "    Returns:\n",
        "        string\n",
        "    \"\"\"\n",
        "    # YOUR CODE HERE\n",
        "    return \"I enjoyed the format of this assignment! I have never done anything like this, and this was super fun to work through. I'm intrigued for future notebook assignments.\\nI am a bit nervous, since I was never properly taught Python, but I know enough to keep me afloat I think.\""
      ]
    },
    {
      "cell_type": "code",
      "execution_count": 44,
      "metadata": {
        "deletable": false,
        "editable": false,
        "nbgrader": {
          "cell_type": "code",
          "checksum": "0fc76aeab9893d713d507bf52fdfedfd",
          "grade": true,
          "grade_id": "test_feedback",
          "locked": true,
          "points": 0,
          "schema_version": 3,
          "solution": false
        },
        "id": "zhYQBFwPzDVn"
      },
      "outputs": [],
      "source": []
    }
  ],
  "metadata": {
    "kernelspec": {
      "display_name": "Python 3",
      "language": "python",
      "name": "python3"
    },
    "language_info": {
      "codemirror_mode": {
        "name": "ipython",
        "version": 3
      },
      "file_extension": ".py",
      "mimetype": "text/x-python",
      "name": "python",
      "nbconvert_exporter": "python",
      "pygments_lexer": "ipython3",
      "version": "3.7.4"
    },
    "colab": {
      "provenance": [],
      "include_colab_link": true
    }
  },
  "nbformat": 4,
  "nbformat_minor": 0
}